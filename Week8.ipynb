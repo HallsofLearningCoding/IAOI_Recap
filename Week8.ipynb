{
  "nbformat": 4,
  "nbformat_minor": 0,
  "metadata": {
    "colab": {
      "provenance": [],
      "toc_visible": true,
      "authorship_tag": "ABX9TyOf/9IcYqyOX6z5AG4CBT4K",
      "include_colab_link": true
    },
    "kernelspec": {
      "name": "python3",
      "display_name": "Python 3"
    },
    "language_info": {
      "name": "python"
    }
  },
  "cells": [
    {
      "cell_type": "markdown",
      "metadata": {
        "id": "view-in-github",
        "colab_type": "text"
      },
      "source": [
        "<a href=\"https://colab.research.google.com/github/HallsofLearningCoding/IAOI_Recap/blob/main/Week8.ipynb\" target=\"_parent\"><img src=\"https://colab.research.google.com/assets/colab-badge.svg\" alt=\"Open In Colab\"/></a>"
      ]
    },
    {
      "cell_type": "markdown",
      "source": [
        "Welcome to the last week of our IOAI training camp! Congrats to the winners of this fourth and final stage!\n",
        "\n",
        "Everyone will receive a certification of completion for the training camp.\n",
        "\n",
        "Today, we'll be looking a bit at the application of neural networks; mainly as it pertains to **Computer Vision** and **Natural Language Processing**."
      ],
      "metadata": {
        "id": "mQVoMg9jOBJZ"
      }
    },
    {
      "cell_type": "markdown",
      "source": [
        "## Computer Vision\n",
        "\n",
        "Computer Vision is the ability for a computer to \"see\", ie somewhat consume visual information, then interpret that information.\n",
        "\n",
        "Typically, computer vision models use something called convolutional neural network/CNN/ConvNet, which is made up of Convolutional Layers.\n",
        "\n",
        "On a layer, the image is broken down into a grid (matrix) made up of pixels. A convultion (a calculation in the form of another grid/matrix) is done on this image grid, through which the model can recognize patterns such as edges. Additional grids can be added with additional calculations to recognize a different pattern, and so on and so forth. The result of the convolution is what is called a convoluted matrix. Note that after convolution, you can apply an activation function, for example relu, to establish a non-linear relationship.\n",
        "\n",
        "\n",
        "Usually after previous steps there is some amount of **pooling** is done to reduce the size of an image, and thus perhaps reduce the computational complexity. THere are a few types of pooling, such as:\n",
        "\n",
        "\n",
        "\n",
        "*   Max Pooling: Only get maximum value\n",
        "*   Sum Pooling: Only get some of values\n",
        "*   Average Pooling: Only get the average of values\n",
        "\n",
        "The result of pooling is a matrix consisting of any pooling function, which can replace the convoluted matrix in calculations.\n",
        "\n",
        "\n",
        "\n"
      ],
      "metadata": {
        "id": "WSIwPR4cL28b"
      }
    },
    {
      "cell_type": "markdown",
      "source": [
        "There are quite a few facets of computer vision that you may already know of, for example image classification and object detection.\n",
        "\n",
        "### Image Classification\n",
        "Creates one label for the entire image. Use [this](https://www.geeksforgeeks.org/deep-learning/cat-dog-classification-using-convolutional-neural-network-in-python/) source to create one of the most basic image classification problems: cat vs dog.\n",
        "\n",
        "### Object Detection\n",
        "Creates multiple labels for objects within an image. Use [this](https://www.geeksforgeeks.org/computer-vision/object-detection-with-yolo-and-opencv/) source to create an object detection model.\n",
        "\n",
        "\n"
      ],
      "metadata": {
        "id": "eKPDs-T5XSVR"
      }
    },
    {
      "cell_type": "markdown",
      "source": [
        "## Natural Language Processing\n",
        "\n",
        "NLP relates to the understanding and generation of human/human-like language. Typically to do this, one would first tokenize data, that is for example breaking down a sentence into words, where each word would be a token. Next, data must be vectorized, ie changed to numerical data that can be interpreted by the computer.\n",
        "\n",
        "Word embedding is one way to do this, where words are mapped as vectors in relation to one another. It is a pretty interesting way to look at words mathematically. Popular algorithms for word embedding are Word2Vec and GloVe.\n",
        "\n",
        "Next step is to create, train and use a model (typically by creating some sort of neural network) based on vectorized information.\n",
        "\n",
        "\n",
        "## Transformers\n",
        "A transformer is a type of neural network with a particular structure. There is quite a bit to know about transformers, but I will focus on the encoder-decoder aspect, as well as the attention mechanism.\n",
        "\n",
        "The attention mechanism helps the model to remember and process information, and can be extremely helpful in a sentence that features the same word with different meanings, or words that are semantically related but distanced from each other in a sentence. With the attention mechanism the entire sentence in parallel, and can better determine a words relevance itself, and how words are relevant to each other.\n",
        "\n",
        "Read more about transformers [here](https://huggingface.co/learn/llm-course/en/chapter1/4)."
      ],
      "metadata": {
        "id": "lZp0o18Ec-h7"
      }
    },
    {
      "cell_type": "markdown",
      "source": [
        "## Activity\n",
        "\n",
        "Today, we're just going to play a video games on the switch since it's the final day!\n",
        "\n",
        "Sike, while eight students play the game, the rest of the class will try to figure out how they could create/train/use a model to determine what is happening in the game, based on screenshots from the students playing.\n",
        "\n",
        "I am giving you freedom to determine what your model is predicting, it can be as simple as finding the location of a particular fruit, or as complex as determining which fruit has received the most power ups. I am also giving you the freedom to use **any** modeling strategy that you see fit. Feel free to hard code a CNN, or use a pretrained model from YOLO. Have fun!"
      ],
      "metadata": {
        "id": "3onc9H0zSf0h"
      }
    }
  ]
}